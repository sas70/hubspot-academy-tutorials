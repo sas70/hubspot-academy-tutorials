{
 "cells": [
  {
   "cell_type": "code",
   "execution_count": 1,
   "id": "00751b98",
   "metadata": {},
   "outputs": [
    {
     "ename": "SyntaxError",
     "evalue": "invalid syntax (3553243428.py, line 1)",
     "output_type": "error",
     "traceback": [
      "\u001b[0;36m  File \u001b[0;32m\"/var/folders/l8/2nr4fkg94xz1ggzhgfdm67zw0000gn/T/ipykernel_30581/3553243428.py\"\u001b[0;36m, line \u001b[0;32m1\u001b[0m\n\u001b[0;31m    myList =   [SimplePublicObjectWithAssociations {\u001b[0m\n\u001b[0m                                                   ^\u001b[0m\n\u001b[0;31mSyntaxError\u001b[0m\u001b[0;31m:\u001b[0m invalid syntax\n"
     ]
    }
   ],
   "source": [
    "myList =   [SimplePublicObjectWithAssociations {\n",
    "    id: '14912754608',\n",
    "    properties: {\n",
    "      createdate: '2023-02-28T23:42:38.615Z',\n",
    "      domain: 'Walmart.com',\n",
    "      hs_lastmodifieddate: '2023-02-28T23:42:41.407Z',\n",
    "      hs_object_id: '14912754608',\n",
    "      name: 'Walmart Stores Inc.'\n",
    "    },\n",
    "    createdAt: 2023-02-28T23:42:38.615Z,\n",
    "    updatedAt: 2023-02-28T23:42:41.407Z,\n",
    "    archived: false\n",
    "  },\n",
    "  SimplePublicObjectWithAssociations {\n",
    "    id: '14915711030',\n",
    "    properties: {\n",
    "      createdate: '2023-03-01T13:41:56.175Z',\n",
    "      domain: 'Walmart.com',\n",
    "      hs_lastmodifieddate: '2023-03-01T13:41:58.661Z',\n",
    "      hs_object_id: '14915711030',\n",
    "      name: 'Walmart Stores Inc.'\n",
    "    },\n",
    "    createdAt: 2023-03-01T13:41:56.175Z,\n",
    "    updatedAt: 2023-03-01T13:41:58.661Z,\n",
    "    archived: false\n",
    "  },\n",
    "  SimplePublicObjectWithAssociations {\n",
    "    id: '14915734825',\n",
    "    properties: {\n",
    "      createdate: '2023-03-01T13:44:58.372Z',\n",
    "      domain: 'Walmart.com',\n",
    "      hs_lastmodifieddate: '2023-03-01T13:45:03.444Z',\n",
    "      hs_object_id: '14915734825',\n",
    "      name: 'Walmart Stores Inc.'\n",
    "    },\n",
    "    createdAt: 2023-03-01T13:44:58.372Z,\n",
    "    updatedAt: 2023-03-01T13:45:03.444Z,\n",
    "    archived: false\n",
    "  }\n",
    "]"
   ]
  }
 ],
 "metadata": {
  "kernelspec": {
   "display_name": "Python 3 (ipykernel)",
   "language": "python",
   "name": "python3"
  },
  "language_info": {
   "codemirror_mode": {
    "name": "ipython",
    "version": 3
   },
   "file_extension": ".py",
   "mimetype": "text/x-python",
   "name": "python",
   "nbconvert_exporter": "python",
   "pygments_lexer": "ipython3",
   "version": "3.9.13"
  }
 },
 "nbformat": 4,
 "nbformat_minor": 5
}
